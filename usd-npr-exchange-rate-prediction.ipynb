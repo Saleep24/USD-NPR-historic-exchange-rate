{
 "cells": [
  {
   "cell_type": "code",
   "execution_count": 1,
   "id": "2b1db940",
   "metadata": {
    "_cell_guid": "b1076dfc-b9ad-4769-8c92-a6c4dae69d19",
    "_uuid": "8f2839f25d086af736a60e9eeb907d3b93b6e0e5",
    "execution": {
     "iopub.execute_input": "2024-05-31T21:52:58.293367Z",
     "iopub.status.busy": "2024-05-31T21:52:58.292442Z",
     "iopub.status.idle": "2024-05-31T21:52:59.052154Z",
     "shell.execute_reply": "2024-05-31T21:52:59.051287Z"
    },
    "papermill": {
     "duration": 0.767221,
     "end_time": "2024-05-31T21:52:59.054630",
     "exception": false,
     "start_time": "2024-05-31T21:52:58.287409",
     "status": "completed"
    },
    "tags": []
   },
   "outputs": [],
   "source": [
    "#importing...\n",
    "\n",
    "import pandas as pd\n",
    "import numpy as np\n",
    "import matplotlib.pyplot as plt"
   ]
  },
  {
   "cell_type": "code",
   "execution_count": 2,
   "id": "9bf357bc",
   "metadata": {
    "execution": {
     "iopub.execute_input": "2024-05-31T21:52:59.063675Z",
     "iopub.status.busy": "2024-05-31T21:52:59.063250Z",
     "iopub.status.idle": "2024-05-31T21:52:59.091352Z",
     "shell.execute_reply": "2024-05-31T21:52:59.090364Z"
    },
    "papermill": {
     "duration": 0.034546,
     "end_time": "2024-05-31T21:52:59.093630",
     "exception": false,
     "start_time": "2024-05-31T21:52:59.059084",
     "status": "completed"
    },
    "tags": []
   },
   "outputs": [],
   "source": [
    "#reading dataset...\n",
    "\n",
    "df = pd.read_csv(\"/kaggle/input/usd-npr-historic-exchange-rates/USD_NPR Historical Data .csv\")"
   ]
  },
  {
   "cell_type": "code",
   "execution_count": 3,
   "id": "e1890d95",
   "metadata": {
    "execution": {
     "iopub.execute_input": "2024-05-31T21:52:59.100917Z",
     "iopub.status.busy": "2024-05-31T21:52:59.100370Z",
     "iopub.status.idle": "2024-05-31T21:52:59.123891Z",
     "shell.execute_reply": "2024-05-31T21:52:59.122867Z"
    },
    "papermill": {
     "duration": 0.029552,
     "end_time": "2024-05-31T21:52:59.126143",
     "exception": false,
     "start_time": "2024-05-31T21:52:59.096591",
     "status": "completed"
    },
    "tags": []
   },
   "outputs": [
    {
     "data": {
      "text/html": [
       "<div>\n",
       "<style scoped>\n",
       "    .dataframe tbody tr th:only-of-type {\n",
       "        vertical-align: middle;\n",
       "    }\n",
       "\n",
       "    .dataframe tbody tr th {\n",
       "        vertical-align: top;\n",
       "    }\n",
       "\n",
       "    .dataframe thead th {\n",
       "        text-align: right;\n",
       "    }\n",
       "</style>\n",
       "<table border=\"1\" class=\"dataframe\">\n",
       "  <thead>\n",
       "    <tr style=\"text-align: right;\">\n",
       "      <th></th>\n",
       "      <th>Date</th>\n",
       "      <th>Price</th>\n",
       "      <th>Open</th>\n",
       "      <th>High</th>\n",
       "      <th>Low</th>\n",
       "      <th>Vol.</th>\n",
       "      <th>Change %</th>\n",
       "    </tr>\n",
       "  </thead>\n",
       "  <tbody>\n",
       "    <tr>\n",
       "      <th>0</th>\n",
       "      <td>05/31/2024</td>\n",
       "      <td>133.501</td>\n",
       "      <td>133.254</td>\n",
       "      <td>133.501</td>\n",
       "      <td>133.071</td>\n",
       "      <td>NaN</td>\n",
       "      <td>0.14%</td>\n",
       "    </tr>\n",
       "    <tr>\n",
       "      <th>1</th>\n",
       "      <td>05/30/2024</td>\n",
       "      <td>133.310</td>\n",
       "      <td>133.480</td>\n",
       "      <td>133.510</td>\n",
       "      <td>133.220</td>\n",
       "      <td>NaN</td>\n",
       "      <td>-0.03%</td>\n",
       "    </tr>\n",
       "    <tr>\n",
       "      <th>2</th>\n",
       "      <td>05/29/2024</td>\n",
       "      <td>133.350</td>\n",
       "      <td>133.150</td>\n",
       "      <td>133.370</td>\n",
       "      <td>133.150</td>\n",
       "      <td>NaN</td>\n",
       "      <td>0.20%</td>\n",
       "    </tr>\n",
       "    <tr>\n",
       "      <th>3</th>\n",
       "      <td>05/28/2024</td>\n",
       "      <td>133.080</td>\n",
       "      <td>133.030</td>\n",
       "      <td>133.110</td>\n",
       "      <td>132.965</td>\n",
       "      <td>NaN</td>\n",
       "      <td>0.05%</td>\n",
       "    </tr>\n",
       "    <tr>\n",
       "      <th>4</th>\n",
       "      <td>05/27/2024</td>\n",
       "      <td>133.010</td>\n",
       "      <td>132.950</td>\n",
       "      <td>133.025</td>\n",
       "      <td>132.870</td>\n",
       "      <td>NaN</td>\n",
       "      <td>0.04%</td>\n",
       "    </tr>\n",
       "  </tbody>\n",
       "</table>\n",
       "</div>"
      ],
      "text/plain": [
       "         Date    Price     Open     High      Low Vol. Change %\n",
       "0  05/31/2024  133.501  133.254  133.501  133.071  NaN    0.14%\n",
       "1  05/30/2024  133.310  133.480  133.510  133.220  NaN   -0.03%\n",
       "2  05/29/2024  133.350  133.150  133.370  133.150  NaN    0.20%\n",
       "3  05/28/2024  133.080  133.030  133.110  132.965  NaN    0.05%\n",
       "4  05/27/2024  133.010  132.950  133.025  132.870  NaN    0.04%"
      ]
     },
     "execution_count": 3,
     "metadata": {},
     "output_type": "execute_result"
    }
   ],
   "source": [
    "df.head(5)"
   ]
  },
  {
   "cell_type": "code",
   "execution_count": 4,
   "id": "d209a381",
   "metadata": {
    "execution": {
     "iopub.execute_input": "2024-05-31T21:52:59.133776Z",
     "iopub.status.busy": "2024-05-31T21:52:59.133222Z",
     "iopub.status.idle": "2024-05-31T21:52:59.142464Z",
     "shell.execute_reply": "2024-05-31T21:52:59.141533Z"
    },
    "papermill": {
     "duration": 0.015232,
     "end_time": "2024-05-31T21:52:59.144502",
     "exception": false,
     "start_time": "2024-05-31T21:52:59.129270",
     "status": "completed"
    },
    "tags": []
   },
   "outputs": [],
   "source": [
    "#droping Vol column\n",
    "\n",
    "df = df.drop(['Vol.'], axis = 1)"
   ]
  },
  {
   "cell_type": "code",
   "execution_count": 5,
   "id": "8248474e",
   "metadata": {
    "execution": {
     "iopub.execute_input": "2024-05-31T21:52:59.152532Z",
     "iopub.status.busy": "2024-05-31T21:52:59.151479Z",
     "iopub.status.idle": "2024-05-31T21:52:59.164677Z",
     "shell.execute_reply": "2024-05-31T21:52:59.163617Z"
    },
    "papermill": {
     "duration": 0.019169,
     "end_time": "2024-05-31T21:52:59.166791",
     "exception": false,
     "start_time": "2024-05-31T21:52:59.147622",
     "status": "completed"
    },
    "tags": []
   },
   "outputs": [
    {
     "data": {
      "text/html": [
       "<div>\n",
       "<style scoped>\n",
       "    .dataframe tbody tr th:only-of-type {\n",
       "        vertical-align: middle;\n",
       "    }\n",
       "\n",
       "    .dataframe tbody tr th {\n",
       "        vertical-align: top;\n",
       "    }\n",
       "\n",
       "    .dataframe thead th {\n",
       "        text-align: right;\n",
       "    }\n",
       "</style>\n",
       "<table border=\"1\" class=\"dataframe\">\n",
       "  <thead>\n",
       "    <tr style=\"text-align: right;\">\n",
       "      <th></th>\n",
       "      <th>Date</th>\n",
       "      <th>Price</th>\n",
       "      <th>Open</th>\n",
       "      <th>High</th>\n",
       "      <th>Low</th>\n",
       "      <th>Change %</th>\n",
       "    </tr>\n",
       "  </thead>\n",
       "  <tbody>\n",
       "    <tr>\n",
       "      <th>0</th>\n",
       "      <td>05/31/2024</td>\n",
       "      <td>133.501</td>\n",
       "      <td>133.254</td>\n",
       "      <td>133.501</td>\n",
       "      <td>133.071</td>\n",
       "      <td>0.14%</td>\n",
       "    </tr>\n",
       "    <tr>\n",
       "      <th>1</th>\n",
       "      <td>05/30/2024</td>\n",
       "      <td>133.310</td>\n",
       "      <td>133.480</td>\n",
       "      <td>133.510</td>\n",
       "      <td>133.220</td>\n",
       "      <td>-0.03%</td>\n",
       "    </tr>\n",
       "    <tr>\n",
       "      <th>2</th>\n",
       "      <td>05/29/2024</td>\n",
       "      <td>133.350</td>\n",
       "      <td>133.150</td>\n",
       "      <td>133.370</td>\n",
       "      <td>133.150</td>\n",
       "      <td>0.20%</td>\n",
       "    </tr>\n",
       "    <tr>\n",
       "      <th>3</th>\n",
       "      <td>05/28/2024</td>\n",
       "      <td>133.080</td>\n",
       "      <td>133.030</td>\n",
       "      <td>133.110</td>\n",
       "      <td>132.965</td>\n",
       "      <td>0.05%</td>\n",
       "    </tr>\n",
       "    <tr>\n",
       "      <th>4</th>\n",
       "      <td>05/27/2024</td>\n",
       "      <td>133.010</td>\n",
       "      <td>132.950</td>\n",
       "      <td>133.025</td>\n",
       "      <td>132.870</td>\n",
       "      <td>0.04%</td>\n",
       "    </tr>\n",
       "  </tbody>\n",
       "</table>\n",
       "</div>"
      ],
      "text/plain": [
       "         Date    Price     Open     High      Low Change %\n",
       "0  05/31/2024  133.501  133.254  133.501  133.071    0.14%\n",
       "1  05/30/2024  133.310  133.480  133.510  133.220   -0.03%\n",
       "2  05/29/2024  133.350  133.150  133.370  133.150    0.20%\n",
       "3  05/28/2024  133.080  133.030  133.110  132.965    0.05%\n",
       "4  05/27/2024  133.010  132.950  133.025  132.870    0.04%"
      ]
     },
     "execution_count": 5,
     "metadata": {},
     "output_type": "execute_result"
    }
   ],
   "source": [
    "df.head(5)"
   ]
  },
  {
   "cell_type": "code",
   "execution_count": 6,
   "id": "4fad8ec1",
   "metadata": {
    "execution": {
     "iopub.execute_input": "2024-05-31T21:52:59.174677Z",
     "iopub.status.busy": "2024-05-31T21:52:59.173950Z",
     "iopub.status.idle": "2024-05-31T21:52:59.179048Z",
     "shell.execute_reply": "2024-05-31T21:52:59.178142Z"
    },
    "papermill": {
     "duration": 0.011154,
     "end_time": "2024-05-31T21:52:59.181131",
     "exception": false,
     "start_time": "2024-05-31T21:52:59.169977",
     "status": "completed"
    },
    "tags": []
   },
   "outputs": [],
   "source": [
    "#droping Open, High and Low Column\n",
    "\n",
    "df = df.drop(columns = [\"Open\", \"High\", \"Low\"])"
   ]
  },
  {
   "cell_type": "code",
   "execution_count": 7,
   "id": "9ca16351",
   "metadata": {
    "execution": {
     "iopub.execute_input": "2024-05-31T21:52:59.188436Z",
     "iopub.status.busy": "2024-05-31T21:52:59.188145Z",
     "iopub.status.idle": "2024-05-31T21:52:59.197661Z",
     "shell.execute_reply": "2024-05-31T21:52:59.196750Z"
    },
    "papermill": {
     "duration": 0.015464,
     "end_time": "2024-05-31T21:52:59.199705",
     "exception": false,
     "start_time": "2024-05-31T21:52:59.184241",
     "status": "completed"
    },
    "tags": []
   },
   "outputs": [
    {
     "data": {
      "text/html": [
       "<div>\n",
       "<style scoped>\n",
       "    .dataframe tbody tr th:only-of-type {\n",
       "        vertical-align: middle;\n",
       "    }\n",
       "\n",
       "    .dataframe tbody tr th {\n",
       "        vertical-align: top;\n",
       "    }\n",
       "\n",
       "    .dataframe thead th {\n",
       "        text-align: right;\n",
       "    }\n",
       "</style>\n",
       "<table border=\"1\" class=\"dataframe\">\n",
       "  <thead>\n",
       "    <tr style=\"text-align: right;\">\n",
       "      <th></th>\n",
       "      <th>Date</th>\n",
       "      <th>Price</th>\n",
       "      <th>Change %</th>\n",
       "    </tr>\n",
       "  </thead>\n",
       "  <tbody>\n",
       "    <tr>\n",
       "      <th>0</th>\n",
       "      <td>05/31/2024</td>\n",
       "      <td>133.501</td>\n",
       "      <td>0.14%</td>\n",
       "    </tr>\n",
       "    <tr>\n",
       "      <th>1</th>\n",
       "      <td>05/30/2024</td>\n",
       "      <td>133.310</td>\n",
       "      <td>-0.03%</td>\n",
       "    </tr>\n",
       "    <tr>\n",
       "      <th>2</th>\n",
       "      <td>05/29/2024</td>\n",
       "      <td>133.350</td>\n",
       "      <td>0.20%</td>\n",
       "    </tr>\n",
       "    <tr>\n",
       "      <th>3</th>\n",
       "      <td>05/28/2024</td>\n",
       "      <td>133.080</td>\n",
       "      <td>0.05%</td>\n",
       "    </tr>\n",
       "    <tr>\n",
       "      <th>4</th>\n",
       "      <td>05/27/2024</td>\n",
       "      <td>133.010</td>\n",
       "      <td>0.04%</td>\n",
       "    </tr>\n",
       "  </tbody>\n",
       "</table>\n",
       "</div>"
      ],
      "text/plain": [
       "         Date    Price Change %\n",
       "0  05/31/2024  133.501    0.14%\n",
       "1  05/30/2024  133.310   -0.03%\n",
       "2  05/29/2024  133.350    0.20%\n",
       "3  05/28/2024  133.080    0.05%\n",
       "4  05/27/2024  133.010    0.04%"
      ]
     },
     "execution_count": 7,
     "metadata": {},
     "output_type": "execute_result"
    }
   ],
   "source": [
    "df.head(5)"
   ]
  },
  {
   "cell_type": "code",
   "execution_count": 8,
   "id": "f2e799d0",
   "metadata": {
    "execution": {
     "iopub.execute_input": "2024-05-31T21:52:59.207742Z",
     "iopub.status.busy": "2024-05-31T21:52:59.207221Z",
     "iopub.status.idle": "2024-05-31T21:52:59.222077Z",
     "shell.execute_reply": "2024-05-31T21:52:59.221352Z"
    },
    "papermill": {
     "duration": 0.020963,
     "end_time": "2024-05-31T21:52:59.224059",
     "exception": false,
     "start_time": "2024-05-31T21:52:59.203096",
     "status": "completed"
    },
    "tags": []
   },
   "outputs": [],
   "source": [
    "df.to_csv('Clean_USD-NPR-historic-exchange-rate.csv', index=False)"
   ]
  },
  {
   "cell_type": "code",
   "execution_count": null,
   "id": "94ad86ec",
   "metadata": {
    "papermill": {
     "duration": 0.003059,
     "end_time": "2024-05-31T21:52:59.230498",
     "exception": false,
     "start_time": "2024-05-31T21:52:59.227439",
     "status": "completed"
    },
    "tags": []
   },
   "outputs": [],
   "source": []
  }
 ],
 "metadata": {
  "kaggle": {
   "accelerator": "none",
   "dataSources": [
    {
     "datasetId": 5126651,
     "sourceId": 8573520,
     "sourceType": "datasetVersion"
    },
    {
     "sourceId": 180828143,
     "sourceType": "kernelVersion"
    }
   ],
   "dockerImageVersionId": 30715,
   "isGpuEnabled": false,
   "isInternetEnabled": true,
   "language": "python",
   "sourceType": "notebook"
  },
  "kernelspec": {
   "display_name": "Python 3",
   "language": "python",
   "name": "python3"
  },
  "language_info": {
   "codemirror_mode": {
    "name": "ipython",
    "version": 3
   },
   "file_extension": ".py",
   "mimetype": "text/x-python",
   "name": "python",
   "nbconvert_exporter": "python",
   "pygments_lexer": "ipython3",
   "version": "3.10.13"
  },
  "papermill": {
   "default_parameters": {},
   "duration": 3.894769,
   "end_time": "2024-05-31T21:52:59.651947",
   "environment_variables": {},
   "exception": null,
   "input_path": "__notebook__.ipynb",
   "output_path": "__notebook__.ipynb",
   "parameters": {},
   "start_time": "2024-05-31T21:52:55.757178",
   "version": "2.5.0"
  }
 },
 "nbformat": 4,
 "nbformat_minor": 5
}
